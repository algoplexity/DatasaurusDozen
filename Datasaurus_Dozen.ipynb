{
  "cells": [
    {
      "cell_type": "markdown",
      "metadata": {
        "id": "WUdajSh5liY3"
      },
      "source": [
        "# The Dangers of Trusting Statistics Alone: Lessons from the Datasaurus Dozen\n",
        "\n",
        "---"
      ]
    },
    {
      "cell_type": "code",
      "execution_count": 1,
      "metadata": {
        "colab": {
          "base_uri": "https://localhost:8080/"
        },
        "id": "CLSc4_9-5oAt",
        "outputId": "239dc431-8a55-4f78-86a7-2d7b2e35cca6"
      },
      "outputs": [
        {
          "output_type": "stream",
          "name": "stdout",
          "text": [
            "Mounted at /content/drive\n"
          ]
        }
      ],
      "source": [
        "from google.colab import drive\n",
        "drive.mount('/content/drive')"
      ]
    },
    {
      "cell_type": "code",
      "execution_count": 2,
      "metadata": {
        "colab": {
          "base_uri": "https://localhost:8080/"
        },
        "id": "79arZ7cHpvMs",
        "outputId": "3a60c058-70d6-49f4-d754-db7805232948"
      },
      "outputs": [
        {
          "output_type": "stream",
          "name": "stdout",
          "text": [
            "/content/drive/MyDrive/Colab Notebooks/Capstone/data\n"
          ]
        }
      ],
      "source": [
        "cd /content/drive/MyDrive/Colab Notebooks/Capstone/data"
      ]
    },
    {
      "cell_type": "code",
      "source": [
        "pip install git+https://github.com/sztal/pybdm.git"
      ],
      "metadata": {
        "colab": {
          "base_uri": "https://localhost:8080/"
        },
        "id": "9k2NPgJYHsXi",
        "outputId": "756a513a-e0a5-4afb-8f90-12059c68246e"
      },
      "execution_count": 3,
      "outputs": [
        {
          "output_type": "stream",
          "name": "stdout",
          "text": [
            "Collecting git+https://github.com/sztal/pybdm.git\n",
            "  Cloning https://github.com/sztal/pybdm.git to /tmp/pip-req-build-ss7i08dx\n",
            "  Running command git clone --filter=blob:none --quiet https://github.com/sztal/pybdm.git /tmp/pip-req-build-ss7i08dx\n",
            "  Resolved https://github.com/sztal/pybdm.git to commit 4bedea1200998a8978ada1a708b4e1f98aacb2d8\n",
            "  Preparing metadata (setup.py) ... \u001b[?25l\u001b[?25hdone\n",
            "Requirement already satisfied: numpy>=1.15.4 in /usr/local/lib/python3.10/dist-packages (from pybdm==0.1.0) (1.22.4)\n",
            "Building wheels for collected packages: pybdm\n",
            "  Building wheel for pybdm (setup.py) ... \u001b[?25l\u001b[?25hdone\n",
            "  Created wheel for pybdm: filename=pybdm-0.1.0-py2.py3-none-any.whl size=39933846 sha256=380a665b2ab327282bbe9cd8430c98307e1ab64583a988bb193d1249b4409cac\n",
            "  Stored in directory: /tmp/pip-ephem-wheel-cache-n928uhs4/wheels/67/6e/1c/64fedb780569cd521fe6933032437f99c23618d9d40ad769fd\n",
            "Successfully built pybdm\n",
            "Installing collected packages: pybdm\n",
            "Successfully installed pybdm-0.1.0\n"
          ]
        }
      ]
    },
    {
      "cell_type": "markdown",
      "metadata": {
        "id": "wJBV0oNkiWdk"
      },
      "source": [
        "## Minimal Algorithmic Information Loss Methods\n",
        "### Sanity Check\n",
        "---"
      ]
    },
    {
      "cell_type": "code",
      "source": [
        "# Datasaurus Test\n",
        "# https://github.com/alyssa-adams/pymils/blob/master/experiments.py\n",
        "# https://www.dropbox.com/s/1zci0df6mny650t/SameStatsDataAndImages.zip?dl=0\n",
        "import numpy as np\n",
        "import pandas as pd\n",
        "import seaborn as sns\n",
        "import matplotlib.pyplot as plt\n",
        "\n",
        "from pybdm import BDM\n",
        "\n",
        "images = []\n",
        "\n",
        "file = \"DatasaurusDozen.tsv\"\n",
        "df = pd.read_csv(file, sep='\\t')\n",
        "grouped_df = df.groupby(df.dataset)\n",
        "groups = list(set(list(df['dataset'])))\n",
        "groups = ['dino', 'slant_up', 'bullseye', 'away', 'v_lines', 'x_shape', 'star', 'dots', 'h_lines', 'slant_down', 'wide_lines', 'circle', 'high_lines']\n",
        "\n",
        "for group in groups:\n",
        "\n",
        "    points_df = grouped_df.get_group(group)\n",
        "    coordinates = list(zip(list(points_df['x']), list(points_df['y'])))\n",
        "    x, y = [int(i[0]) for i in coordinates], [int(i[1]) for i in coordinates]\n",
        "    max_x, max_y = max(x), max(y)\n",
        "    image = np.zeros((max_y + 1, max_x + 1))\n",
        "\n",
        "    for i in range(len(coordinates)):\n",
        "        image[max_y - y[i], x[i]] = 1\n",
        "\n",
        "    image = image.astype(int)\n",
        "    images.append(image)\n",
        "\n",
        "# Initialize BDM\n",
        "bdm = BDM(ndim=2)\n",
        "\n",
        "# for each image, calculate BDM\n",
        "bdm_row = []\n",
        "\n",
        "for i, image in enumerate(images):\n",
        "\n",
        "    bdm_value = bdm.bdm(np.array(image))\n",
        "\n",
        "    group = groups[i]\n",
        "    nrows_group = len(grouped_df.get_group(group).index)\n",
        "\n",
        "    for n in range(nrows_group):\n",
        "        bdm_row.append(bdm_value)\n",
        "\n",
        "df['BDM'] = bdm_row\n",
        "\n",
        "# plot bdm values\n",
        "sns.scatterplot(data=df, x=\"dataset\", y=\"BDM\", s=50)\n",
        "plt.xticks(rotation=45)\n",
        "plt.tight_layout()\n",
        "sns.despine()\n",
        "sns.set_theme()\n",
        "plt.savefig(\"datasaurus_bdm.pdf\")\n",
        "plt.clf()\n",
        "\n",
        "# show a grid of the original images?\n",
        "fig, axs = plt.subplots(4, 4)\n",
        "\n",
        "axs[0, 0].imshow(np.invert(images[0]))\n",
        "axs[0, 0].set_title(groups[0])\n",
        "axs[0, 0].axes.xaxis.set_ticks([])\n",
        "axs[0, 0].axes.yaxis.set_ticks([])\n",
        "\n",
        "axs[1, 0].imshow(np.invert(images[1]))\n",
        "axs[1, 0].set_title(groups[1])\n",
        "axs[1, 0].axes.xaxis.set_ticks([])\n",
        "axs[1, 0].axes.yaxis.set_ticks([])\n",
        "\n",
        "axs[2, 0].imshow(np.invert(images[2]))\n",
        "axs[2, 0].set_title(groups[2])\n",
        "axs[2, 0].axes.xaxis.set_ticks([])\n",
        "axs[2, 0].axes.yaxis.set_ticks([])\n",
        "\n",
        "axs[3, 0].imshow(np.invert(images[3]))\n",
        "axs[3, 0].set_title(groups[3])\n",
        "axs[3, 0].axes.xaxis.set_ticks([])\n",
        "axs[3, 0].axes.yaxis.set_ticks([])\n",
        "\n",
        "axs[0, 1].imshow(np.invert(images[4]))\n",
        "axs[0, 1].set_title(groups[4])\n",
        "axs[0, 1].axes.xaxis.set_ticks([])\n",
        "axs[0, 1].axes.yaxis.set_ticks([])\n",
        "\n",
        "axs[1, 1].imshow(np.invert(images[5]))\n",
        "axs[1, 1].set_title(groups[5])\n",
        "axs[1, 1].axes.xaxis.set_ticks([])\n",
        "axs[1, 1].axes.yaxis.set_ticks([])\n",
        "\n",
        "axs[2, 1].imshow(np.invert(images[6]))\n",
        "axs[2, 1].set_title(groups[6])\n",
        "axs[2, 1].axes.xaxis.set_ticks([])\n",
        "axs[2, 1].axes.yaxis.set_ticks([])\n",
        "\n",
        "axs[3, 1].imshow(np.invert(images[7]))\n",
        "axs[3, 1].set_title(groups[7])\n",
        "axs[3, 1].axes.xaxis.set_ticks([])\n",
        "axs[3, 1].axes.yaxis.set_ticks([])\n",
        "\n",
        "axs[0, 2].imshow(np.invert(images[8]))\n",
        "axs[0, 2].set_title(groups[8])\n",
        "axs[0, 2].axes.xaxis.set_ticks([])\n",
        "axs[0, 2].axes.yaxis.set_ticks([])\n",
        "\n",
        "axs[1, 2].imshow(np.invert(images[9]))\n",
        "axs[1, 2].set_title(groups[9])\n",
        "axs[1, 2].axes.xaxis.set_ticks([])\n",
        "axs[1, 2].axes.yaxis.set_ticks([])\n",
        "\n",
        "axs[2, 2].imshow(np.invert(images[10]))\n",
        "axs[2, 2].set_title(groups[10])\n",
        "axs[2, 2].axes.xaxis.set_ticks([])\n",
        "axs[2, 2].axes.yaxis.set_ticks([])\n",
        "\n",
        "axs[3, 2].imshow(np.invert(images[11]))\n",
        "axs[3, 2].set_title(groups[11])\n",
        "axs[3, 2].axes.xaxis.set_ticks([])\n",
        "axs[3, 2].axes.yaxis.set_ticks([])\n",
        "\n",
        "axs[0, 3].imshow(np.invert(images[12]))\n",
        "axs[0, 3].set_title(groups[12])\n",
        "axs[0, 3].axes.xaxis.set_ticks([])\n",
        "axs[0, 3].axes.yaxis.set_ticks([])\n",
        "\n",
        "axs[1, 3].imshow([[0]])\n",
        "axs[1, 3].axes.xaxis.set_ticks([])\n",
        "axs[1, 3].axes.yaxis.set_ticks([])\n",
        "\n",
        "axs[2, 3].imshow([[0]])\n",
        "axs[2, 3].axes.xaxis.set_ticks([])\n",
        "axs[2, 3].axes.yaxis.set_ticks([])\n",
        "\n",
        "axs[3, 3].imshow([[0]])\n",
        "axs[3, 3].axes.xaxis.set_ticks([])\n",
        "axs[3, 3].axes.yaxis.set_ticks([])\n",
        "\n",
        "fig.tight_layout()\n",
        "plt.savefig(\"DatasaurusDozen.pdf\")\n",
        "plt.clf()"
      ],
      "metadata": {
        "id": "8xsy8t01sDHJ",
        "colab": {
          "base_uri": "https://localhost:8080/",
          "height": 52
        },
        "outputId": "7e52ace0-403b-4e71-c008-8cc44c1c8914"
      },
      "execution_count": 4,
      "outputs": [
        {
          "output_type": "display_data",
          "data": {
            "text/plain": [
              "<Figure size 640x480 with 0 Axes>"
            ]
          },
          "metadata": {}
        },
        {
          "output_type": "display_data",
          "data": {
            "text/plain": [
              "<Figure size 640x480 with 0 Axes>"
            ]
          },
          "metadata": {}
        }
      ]
    },
    {
      "cell_type": "markdown",
      "metadata": {
        "id": "EaDCWHR5mPfQ"
      },
      "source": [
        "# References\n"
      ]
    },
    {
      "cell_type": "markdown",
      "source": [
        "\n",
        "\n",
        "* https://pybdm-docs.readthedocs.io/en/latest/\n",
        "* https://github.com/alyssa-adams/pymils/\n",
        "\n"
      ],
      "metadata": {
        "id": "qPd1M-wJJcmr"
      }
    },
    {
      "cell_type": "markdown",
      "metadata": {
        "id": "0O5dCMaIkBFG"
      },
      "source": [
        "---\n"
      ]
    }
  ],
  "metadata": {
    "accelerator": "GPU",
    "colab": {
      "provenance": [],
      "toc_visible": true
    },
    "kernelspec": {
      "display_name": "Python 3",
      "name": "python3"
    },
    "language_info": {
      "name": "python"
    }
  },
  "nbformat": 4,
  "nbformat_minor": 0
}